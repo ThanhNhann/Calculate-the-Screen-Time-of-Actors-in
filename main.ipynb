{
  "nbformat": 4,
  "nbformat_minor": 0,
  "metadata": {
    "colab": {
      "name": "Untitled0.ipynb",
      "version": "0.3.2",
      "provenance": [],
      "include_colab_link": true
    },
    "kernelspec": {
      "name": "python3",
      "display_name": "Python 3"
    },
    "accelerator": "GPU"
  },
  "cells": [
    {
      "cell_type": "markdown",
      "metadata": {
        "id": "view-in-github",
        "colab_type": "text"
      },
      "source": [
        "<a href=\"https://colab.research.google.com/github/ThanhNhann/Calculate-the-Screen-Time-of-Actors-in-the-movie/blob/master/main.ipynb\" target=\"_parent\"><img src=\"https://colab.research.google.com/assets/colab-badge.svg\" alt=\"Open In Colab\"/></a>"
      ]
    },
    {
      "cell_type": "code",
      "metadata": {
        "id": "XnHwXnbcH3Gi",
        "colab_type": "code",
        "colab": {
          "base_uri": "https://localhost:8080/",
          "height": 34
        },
        "outputId": "c0b09ffa-e520-4d2b-dc0a-a65e6a24e768"
      },
      "source": [
        "#import package \n",
        "import pandas as pd\n",
        "import cv2\n",
        "import math\n",
        "import matplotlib.pyplot as plt\n",
        "%matplotlib inline\n",
        "import numpy as np\n",
        "#import keras.preprocessing import image\n",
        "from keras.utils import np_utils\n",
        "from skimage.transform import resize\n",
        "\n"
      ],
      "execution_count": 1,
      "outputs": [
        {
          "output_type": "stream",
          "text": [
            "Using TensorFlow backend.\n"
          ],
          "name": "stderr"
        }
      ]
    },
    {
      "cell_type": "code",
      "metadata": {
        "id": "kY-1izILKBwx",
        "colab_type": "code",
        "colab": {
          "base_uri": "https://localhost:8080/",
          "height": 34
        },
        "outputId": "27d04b90-6d8e-42a6-b030-27454d66f8a2"
      },
      "source": [
        "#Read the video, extract frames from it and save them \n",
        "count = 0\n",
        "cap = cv2.VideoCapture(\"Tom and jerry.mp4\")\n",
        "#get the fps \n",
        "frameRate = cap.get(5)\n",
        "\n",
        "while(cap.isOpened()):\n",
        "  #get the ID of current frame\n",
        "  frameId = cap.get(1)\n",
        "  ret, frame = cap.read()\n",
        "  if (ret != True):\n",
        "     break\n",
        "  #One pic / 1s    \n",
        "  if (frameId % math.floor(frameRate)==0):\n",
        "      filename = \"frame%d.jpg\"%count\n",
        "      count += 1\n",
        "      cv2.imwrite(filename, frame)\n",
        "cap.release()\n",
        "print(\"Done\")\n",
        "      \n",
        "  \n",
        "      \n",
        "  \n"
      ],
      "execution_count": 2,
      "outputs": [
        {
          "output_type": "stream",
          "text": [
            "Done\n"
          ],
          "name": "stdout"
        }
      ]
    },
    {
      "cell_type": "code",
      "metadata": {
        "id": "AhyMyLUuNN3H",
        "colab_type": "code",
        "colab": {
          "base_uri": "https://localhost:8080/",
          "height": 204
        },
        "outputId": "ee5a1973-293e-40cf-ddc5-7d75ea791c0e"
      },
      "source": [
        "data = pd.read_csv('mapping.csv')     # reading the csv file\n",
        "data.head()      # printing first five rows of the file"
      ],
      "execution_count": 3,
      "outputs": [
        {
          "output_type": "execute_result",
          "data": {
            "text/html": [
              "<div>\n",
              "<style scoped>\n",
              "    .dataframe tbody tr th:only-of-type {\n",
              "        vertical-align: middle;\n",
              "    }\n",
              "\n",
              "    .dataframe tbody tr th {\n",
              "        vertical-align: top;\n",
              "    }\n",
              "\n",
              "    .dataframe thead th {\n",
              "        text-align: right;\n",
              "    }\n",
              "</style>\n",
              "<table border=\"1\" class=\"dataframe\">\n",
              "  <thead>\n",
              "    <tr style=\"text-align: right;\">\n",
              "      <th></th>\n",
              "      <th>Image_ID</th>\n",
              "      <th>Class</th>\n",
              "    </tr>\n",
              "  </thead>\n",
              "  <tbody>\n",
              "    <tr>\n",
              "      <th>0</th>\n",
              "      <td>frame0.jpg</td>\n",
              "      <td>1</td>\n",
              "    </tr>\n",
              "    <tr>\n",
              "      <th>1</th>\n",
              "      <td>frame1.jpg</td>\n",
              "      <td>1</td>\n",
              "    </tr>\n",
              "    <tr>\n",
              "      <th>2</th>\n",
              "      <td>frame2.jpg</td>\n",
              "      <td>2</td>\n",
              "    </tr>\n",
              "    <tr>\n",
              "      <th>3</th>\n",
              "      <td>frame3.jpg</td>\n",
              "      <td>2</td>\n",
              "    </tr>\n",
              "    <tr>\n",
              "      <th>4</th>\n",
              "      <td>frame4.jpg</td>\n",
              "      <td>2</td>\n",
              "    </tr>\n",
              "  </tbody>\n",
              "</table>\n",
              "</div>"
            ],
            "text/plain": [
              "     Image_ID  Class\n",
              "0  frame0.jpg      1\n",
              "1  frame1.jpg      1\n",
              "2  frame2.jpg      2\n",
              "3  frame3.jpg      2\n",
              "4  frame4.jpg      2"
            ]
          },
          "metadata": {
            "tags": []
          },
          "execution_count": 3
        }
      ]
    },
    {
      "cell_type": "code",
      "metadata": {
        "id": "RnAw4w-9NUo5",
        "colab_type": "code",
        "colab": {}
      },
      "source": [
        "X = []\n",
        "for img_name in data.Image_ID:\n",
        "  img = plt.imread(img_name)\n",
        "  X.append(img)\n",
        "#converting list to array  \n",
        "X = np.array(X)  "
      ],
      "execution_count": 0,
      "outputs": []
    },
    {
      "cell_type": "code",
      "metadata": {
        "id": "0KxxWgzBOnsA",
        "colab_type": "code",
        "colab": {}
      },
      "source": [
        "y = data.Class\n",
        "#Onehot Encoding \n",
        "dummy_y = np_utils.to_categorical(y)"
      ],
      "execution_count": 0,
      "outputs": []
    },
    {
      "cell_type": "code",
      "metadata": {
        "id": "ESNVzLKaOqCM",
        "colab_type": "code",
        "colab": {}
      },
      "source": [
        "#resize image (we use VGG16 pretrained model with the shape(224,224,3))\n",
        "image = []\n",
        "for i in range(0, X.shape[0]):\n",
        "  a = resize(X[i],preserve_range=True, output_shape=(224,224)).astype(int)\n",
        "  image.append(a)\n",
        "X = np.array(image)  "
      ],
      "execution_count": 0,
      "outputs": []
    },
    {
      "cell_type": "code",
      "metadata": {
        "id": "VjVM_nUAQebR",
        "colab_type": "code",
        "colab": {}
      },
      "source": [
        "#preprocess before pass to model\n",
        "from keras.applications.vgg16 import preprocess_input\n",
        "X = preprocess_input(X, mode='tf')"
      ],
      "execution_count": 0,
      "outputs": []
    },
    {
      "cell_type": "code",
      "metadata": {
        "id": "mKxnWAvDRN_H",
        "colab_type": "code",
        "colab": {}
      },
      "source": [
        "#get train, valid set\n",
        "from sklearn.model_selection import train_test_split\n",
        "X_train, X_valid, y_train, y_valid = train_test_split(X, dummy_y, test_size = 0.3, random_state = 42) \n"
      ],
      "execution_count": 0,
      "outputs": []
    },
    {
      "cell_type": "code",
      "metadata": {
        "id": "J_s79fRZSFdr",
        "colab_type": "code",
        "colab": {
          "base_uri": "https://localhost:8080/",
          "height": 292
        },
        "outputId": "5f76fe91-0e93-4b2c-8582-a956e6372a5e"
      },
      "source": [
        "#building the model\n",
        "from keras.models import Sequential\n",
        "from keras.applications.vgg16 import VGG16\n",
        "from keras.layers import Dense, InputLayer, Dropout\n",
        "\n",
        "base_model = VGG16(weights=\"imagenet\", include_top=False, input_shape=(224,224,3))"
      ],
      "execution_count": 9,
      "outputs": [
        {
          "output_type": "stream",
          "text": [
            "WARNING: Logging before flag parsing goes to stderr.\n",
            "W0807 05:57:20.139609 140546040637312 deprecation_wrapper.py:119] From /usr/local/lib/python3.6/dist-packages/keras/backend/tensorflow_backend.py:74: The name tf.get_default_graph is deprecated. Please use tf.compat.v1.get_default_graph instead.\n",
            "\n",
            "W0807 05:57:20.175721 140546040637312 deprecation_wrapper.py:119] From /usr/local/lib/python3.6/dist-packages/keras/backend/tensorflow_backend.py:517: The name tf.placeholder is deprecated. Please use tf.compat.v1.placeholder instead.\n",
            "\n",
            "W0807 05:57:20.181930 140546040637312 deprecation_wrapper.py:119] From /usr/local/lib/python3.6/dist-packages/keras/backend/tensorflow_backend.py:4138: The name tf.random_uniform is deprecated. Please use tf.random.uniform instead.\n",
            "\n",
            "W0807 05:57:20.220670 140546040637312 deprecation_wrapper.py:119] From /usr/local/lib/python3.6/dist-packages/keras/backend/tensorflow_backend.py:3976: The name tf.nn.max_pool is deprecated. Please use tf.nn.max_pool2d instead.\n",
            "\n"
          ],
          "name": "stderr"
        },
        {
          "output_type": "stream",
          "text": [
            "Downloading data from https://github.com/fchollet/deep-learning-models/releases/download/v0.1/vgg16_weights_tf_dim_ordering_tf_kernels_notop.h5\n",
            "58892288/58889256 [==============================] - 1s 0us/step\n"
          ],
          "name": "stdout"
        },
        {
          "output_type": "stream",
          "text": [
            "W0807 05:57:21.854856 140546040637312 deprecation_wrapper.py:119] From /usr/local/lib/python3.6/dist-packages/keras/backend/tensorflow_backend.py:174: The name tf.get_default_session is deprecated. Please use tf.compat.v1.get_default_session instead.\n",
            "\n",
            "W0807 05:57:21.855904 140546040637312 deprecation_wrapper.py:119] From /usr/local/lib/python3.6/dist-packages/keras/backend/tensorflow_backend.py:181: The name tf.ConfigProto is deprecated. Please use tf.compat.v1.ConfigProto instead.\n",
            "\n"
          ],
          "name": "stderr"
        }
      ]
    },
    {
      "cell_type": "code",
      "metadata": {
        "id": "i5Lqg_MqSoYU",
        "colab_type": "code",
        "colab": {
          "base_uri": "https://localhost:8080/",
          "height": 34
        },
        "outputId": "7ae2eb4c-3aaa-4cc2-a144-804899a098fb"
      },
      "source": [
        "X_train = base_model.predict(X_train)\n",
        "X_valid = base_model.predict(X_valid)\n",
        "X_train.shape, X_valid.shape"
      ],
      "execution_count": 10,
      "outputs": [
        {
          "output_type": "execute_result",
          "data": {
            "text/plain": [
              "((208, 7, 7, 512), (90, 7, 7, 512))"
            ]
          },
          "metadata": {
            "tags": []
          },
          "execution_count": 10
        }
      ]
    },
    {
      "cell_type": "code",
      "metadata": {
        "id": "LW7vup76sh3a",
        "colab_type": "code",
        "colab": {}
      },
      "source": [
        "X_train = X_train.reshape(208, 7*7*512)      # converting to 1-D\n",
        "X_valid = X_valid.reshape(90, 7*7*512)"
      ],
      "execution_count": 0,
      "outputs": []
    },
    {
      "cell_type": "code",
      "metadata": {
        "id": "jidCLDgJqXbM",
        "colab_type": "code",
        "colab": {}
      },
      "source": [
        "#preprocess the images and make them zero-centered which help the model to converge faster\n",
        "train = X_train/X_train.max()   #centering the data\n",
        "X_valid = X_valid/X_train.max()"
      ],
      "execution_count": 0,
      "outputs": []
    },
    {
      "cell_type": "code",
      "metadata": {
        "id": "0fzs6oCMq1u1",
        "colab_type": "code",
        "colab": {}
      },
      "source": [
        "#Build the model \n",
        "model = Sequential()\n",
        "model.add(InputLayer((7*7*512,))) #input layer\n",
        "model.add(Dense(units=1024, activation='sigmoid')) #hideen layer\n",
        "model.add(Dense(3, activation='softmax')) #ouput layer"
      ],
      "execution_count": 0,
      "outputs": []
    },
    {
      "cell_type": "code",
      "metadata": {
        "id": "QVxG1yyUrfcH",
        "colab_type": "code",
        "colab": {
          "base_uri": "https://localhost:8080/",
          "height": 204
        },
        "outputId": "6bbe6669-ea89-4c83-87cf-042afbe06bce"
      },
      "source": [
        "model.summary()"
      ],
      "execution_count": 20,
      "outputs": [
        {
          "output_type": "stream",
          "text": [
            "_________________________________________________________________\n",
            "Layer (type)                 Output Shape              Param #   \n",
            "=================================================================\n",
            "dense_3 (Dense)              (None, 1024)              25691136  \n",
            "_________________________________________________________________\n",
            "dense_4 (Dense)              (None, 3)                 3075      \n",
            "=================================================================\n",
            "Total params: 25,694,211\n",
            "Trainable params: 25,694,211\n",
            "Non-trainable params: 0\n",
            "_________________________________________________________________\n"
          ],
          "name": "stdout"
        }
      ]
    },
    {
      "cell_type": "code",
      "metadata": {
        "id": "JI38aqFwrn1c",
        "colab_type": "code",
        "colab": {}
      },
      "source": [
        "#Compiling the model\n",
        "model.compile(loss='categorical_crossentropy', optimizer='adam', metrics=['accuracy'])"
      ],
      "execution_count": 0,
      "outputs": []
    },
    {
      "cell_type": "code",
      "metadata": {
        "id": "tyrY_56FsCjh",
        "colab_type": "code",
        "colab": {
          "base_uri": "https://localhost:8080/",
          "height": 1000
        },
        "outputId": "6170bb8f-f040-42be-808a-e7a9ff4252dd"
      },
      "source": [
        "#Training the model\n",
        "model.fit(train, y_train, epochs=100, validation_data=(X_valid, y_valid))\n"
      ],
      "execution_count": 24,
      "outputs": [
        {
          "output_type": "stream",
          "text": [
            "Train on 208 samples, validate on 90 samples\n",
            "Epoch 1/100\n",
            "208/208 [==============================] - 2s 10ms/step - loss: 0.9879 - acc: 0.5529 - val_loss: 1.0264 - val_acc: 0.4111\n",
            "Epoch 2/100\n",
            "208/208 [==============================] - 0s 811us/step - loss: 0.4277 - acc: 0.8269 - val_loss: 0.9694 - val_acc: 0.4000\n",
            "Epoch 3/100\n",
            "208/208 [==============================] - 0s 775us/step - loss: 0.2151 - acc: 0.9423 - val_loss: 1.0113 - val_acc: 0.3667\n",
            "Epoch 4/100\n",
            "208/208 [==============================] - 0s 767us/step - loss: 0.1229 - acc: 0.9760 - val_loss: 0.9390 - val_acc: 0.4333\n",
            "Epoch 5/100\n",
            "208/208 [==============================] - 0s 781us/step - loss: 0.0639 - acc: 0.9904 - val_loss: 0.9293 - val_acc: 0.4000\n",
            "Epoch 6/100\n",
            "208/208 [==============================] - 0s 770us/step - loss: 0.0481 - acc: 0.9952 - val_loss: 0.9486 - val_acc: 0.3667\n",
            "Epoch 7/100\n",
            "208/208 [==============================] - 0s 773us/step - loss: 0.0496 - acc: 0.9808 - val_loss: 0.9205 - val_acc: 0.4222\n",
            "Epoch 8/100\n",
            "208/208 [==============================] - 0s 767us/step - loss: 0.0302 - acc: 0.9952 - val_loss: 0.9277 - val_acc: 0.4000\n",
            "Epoch 9/100\n",
            "208/208 [==============================] - 0s 766us/step - loss: 0.0277 - acc: 0.9952 - val_loss: 0.9089 - val_acc: 0.4111\n",
            "Epoch 10/100\n",
            "208/208 [==============================] - 0s 777us/step - loss: 0.0244 - acc: 0.9952 - val_loss: 0.9040 - val_acc: 0.4111\n",
            "Epoch 11/100\n",
            "208/208 [==============================] - 0s 771us/step - loss: 0.0211 - acc: 0.9952 - val_loss: 0.9226 - val_acc: 0.4000\n",
            "Epoch 12/100\n",
            "208/208 [==============================] - 0s 776us/step - loss: 0.0211 - acc: 0.9952 - val_loss: 0.9072 - val_acc: 0.4111\n",
            "Epoch 13/100\n",
            "208/208 [==============================] - 0s 783us/step - loss: 0.0198 - acc: 0.9904 - val_loss: 0.9018 - val_acc: 0.4111\n",
            "Epoch 14/100\n",
            "208/208 [==============================] - 0s 774us/step - loss: 0.0212 - acc: 0.9904 - val_loss: 0.9016 - val_acc: 0.4111\n",
            "Epoch 15/100\n",
            "208/208 [==============================] - 0s 784us/step - loss: 0.0188 - acc: 0.9904 - val_loss: 0.8872 - val_acc: 0.4778\n",
            "Epoch 16/100\n",
            "208/208 [==============================] - 0s 771us/step - loss: 0.0164 - acc: 0.9952 - val_loss: 0.8711 - val_acc: 0.5556\n",
            "Epoch 17/100\n",
            "208/208 [==============================] - 0s 775us/step - loss: 0.0215 - acc: 0.9952 - val_loss: 0.9192 - val_acc: 0.3889\n",
            "Epoch 18/100\n",
            "208/208 [==============================] - 0s 765us/step - loss: 0.0193 - acc: 0.9952 - val_loss: 0.9198 - val_acc: 0.4000\n",
            "Epoch 19/100\n",
            "208/208 [==============================] - 0s 772us/step - loss: 0.0137 - acc: 0.9952 - val_loss: 0.8679 - val_acc: 0.5111\n",
            "Epoch 20/100\n",
            "208/208 [==============================] - 0s 778us/step - loss: 0.0150 - acc: 0.9904 - val_loss: 0.8734 - val_acc: 0.4889\n",
            "Epoch 21/100\n",
            "208/208 [==============================] - 0s 766us/step - loss: 0.0155 - acc: 0.9904 - val_loss: 0.8780 - val_acc: 0.4778\n",
            "Epoch 22/100\n",
            "208/208 [==============================] - 0s 785us/step - loss: 0.0180 - acc: 0.9952 - val_loss: 0.8873 - val_acc: 0.4111\n",
            "Epoch 23/100\n",
            "208/208 [==============================] - 0s 770us/step - loss: 0.0115 - acc: 0.9952 - val_loss: 0.8651 - val_acc: 0.5111\n",
            "Epoch 24/100\n",
            "208/208 [==============================] - 0s 774us/step - loss: 0.0255 - acc: 0.9952 - val_loss: 0.8576 - val_acc: 0.5667\n",
            "Epoch 25/100\n",
            "208/208 [==============================] - 0s 773us/step - loss: 0.0217 - acc: 0.9952 - val_loss: 0.9508 - val_acc: 0.3667\n",
            "Epoch 26/100\n",
            "208/208 [==============================] - 0s 779us/step - loss: 0.0161 - acc: 0.9952 - val_loss: 0.8482 - val_acc: 0.5889\n",
            "Epoch 27/100\n",
            "208/208 [==============================] - 0s 767us/step - loss: 0.0239 - acc: 0.9904 - val_loss: 0.8713 - val_acc: 0.4778\n",
            "Epoch 28/100\n",
            "208/208 [==============================] - 0s 776us/step - loss: 0.0338 - acc: 0.9952 - val_loss: 0.9499 - val_acc: 0.3667\n",
            "Epoch 29/100\n",
            "208/208 [==============================] - 0s 772us/step - loss: 0.0189 - acc: 0.9952 - val_loss: 0.8216 - val_acc: 0.7333\n",
            "Epoch 30/100\n",
            "208/208 [==============================] - 0s 776us/step - loss: 0.0176 - acc: 0.9952 - val_loss: 0.8495 - val_acc: 0.5444\n",
            "Epoch 31/100\n",
            "208/208 [==============================] - 0s 781us/step - loss: 0.0102 - acc: 0.9952 - val_loss: 0.8906 - val_acc: 0.4000\n",
            "Epoch 32/100\n",
            "208/208 [==============================] - 0s 798us/step - loss: 0.0137 - acc: 0.9952 - val_loss: 0.8737 - val_acc: 0.4222\n",
            "Epoch 33/100\n",
            "208/208 [==============================] - 0s 772us/step - loss: 0.0129 - acc: 0.9952 - val_loss: 0.8578 - val_acc: 0.4778\n",
            "Epoch 34/100\n",
            "208/208 [==============================] - 0s 775us/step - loss: 0.0166 - acc: 0.9904 - val_loss: 0.8660 - val_acc: 0.4778\n",
            "Epoch 35/100\n",
            "208/208 [==============================] - 0s 764us/step - loss: 0.0132 - acc: 0.9952 - val_loss: 0.8277 - val_acc: 0.6333\n",
            "Epoch 36/100\n",
            "208/208 [==============================] - 0s 778us/step - loss: 0.0200 - acc: 0.9904 - val_loss: 0.8769 - val_acc: 0.4111\n",
            "Epoch 37/100\n",
            "208/208 [==============================] - 0s 779us/step - loss: 0.0153 - acc: 0.9904 - val_loss: 0.8652 - val_acc: 0.4556\n",
            "Epoch 38/100\n",
            "208/208 [==============================] - 0s 772us/step - loss: 0.0229 - acc: 0.9904 - val_loss: 0.8995 - val_acc: 0.4000\n",
            "Epoch 39/100\n",
            "208/208 [==============================] - 0s 778us/step - loss: 0.0095 - acc: 0.9952 - val_loss: 0.8234 - val_acc: 0.6444\n",
            "Epoch 40/100\n",
            "208/208 [==============================] - 0s 764us/step - loss: 0.0124 - acc: 0.9952 - val_loss: 0.8271 - val_acc: 0.5889\n",
            "Epoch 41/100\n",
            "208/208 [==============================] - 0s 782us/step - loss: 0.0155 - acc: 0.9952 - val_loss: 0.8418 - val_acc: 0.5333\n",
            "Epoch 42/100\n",
            "208/208 [==============================] - 0s 759us/step - loss: 0.0102 - acc: 0.9952 - val_loss: 0.9584 - val_acc: 0.3667\n",
            "Epoch 43/100\n",
            "208/208 [==============================] - 0s 771us/step - loss: 0.0256 - acc: 0.9952 - val_loss: 0.8478 - val_acc: 0.4778\n",
            "Epoch 44/100\n",
            "208/208 [==============================] - 0s 763us/step - loss: 0.0100 - acc: 0.9952 - val_loss: 0.8146 - val_acc: 0.6778\n",
            "Epoch 45/100\n",
            "208/208 [==============================] - 0s 774us/step - loss: 0.0097 - acc: 0.9952 - val_loss: 0.8285 - val_acc: 0.5889\n",
            "Epoch 46/100\n",
            "208/208 [==============================] - 0s 761us/step - loss: 0.0113 - acc: 0.9904 - val_loss: 0.8402 - val_acc: 0.5000\n",
            "Epoch 47/100\n",
            "208/208 [==============================] - 0s 777us/step - loss: 0.0160 - acc: 0.9952 - val_loss: 0.8544 - val_acc: 0.4778\n",
            "Epoch 48/100\n",
            "208/208 [==============================] - 0s 768us/step - loss: 0.0042 - acc: 1.0000 - val_loss: 0.8006 - val_acc: 0.7444\n",
            "Epoch 49/100\n",
            "208/208 [==============================] - 0s 780us/step - loss: 0.0365 - acc: 0.9952 - val_loss: 0.8098 - val_acc: 0.6667\n",
            "Epoch 50/100\n",
            "208/208 [==============================] - 0s 779us/step - loss: 0.0518 - acc: 0.9904 - val_loss: 1.0058 - val_acc: 0.3667\n",
            "Epoch 51/100\n",
            "208/208 [==============================] - 0s 779us/step - loss: 0.0249 - acc: 0.9904 - val_loss: 0.7959 - val_acc: 0.7444\n",
            "Epoch 52/100\n",
            "208/208 [==============================] - 0s 780us/step - loss: 0.0331 - acc: 0.9856 - val_loss: 0.9958 - val_acc: 0.3667\n",
            "Epoch 53/100\n",
            "208/208 [==============================] - 0s 772us/step - loss: 0.0382 - acc: 0.9904 - val_loss: 0.8065 - val_acc: 0.6444\n",
            "Epoch 54/100\n",
            "208/208 [==============================] - 0s 785us/step - loss: 0.0233 - acc: 0.9952 - val_loss: 0.8246 - val_acc: 0.5667\n",
            "Epoch 55/100\n",
            "208/208 [==============================] - 0s 777us/step - loss: 0.0102 - acc: 0.9952 - val_loss: 0.8641 - val_acc: 0.4111\n",
            "Epoch 56/100\n",
            "208/208 [==============================] - 0s 786us/step - loss: 0.0136 - acc: 0.9952 - val_loss: 0.8757 - val_acc: 0.4000\n",
            "Epoch 57/100\n",
            "208/208 [==============================] - 0s 775us/step - loss: 0.0120 - acc: 0.9904 - val_loss: 0.8226 - val_acc: 0.5778\n",
            "Epoch 58/100\n",
            "208/208 [==============================] - 0s 760us/step - loss: 0.0136 - acc: 0.9952 - val_loss: 0.8163 - val_acc: 0.6111\n",
            "Epoch 59/100\n",
            "208/208 [==============================] - 0s 760us/step - loss: 0.0076 - acc: 0.9952 - val_loss: 0.8673 - val_acc: 0.4000\n",
            "Epoch 60/100\n",
            "208/208 [==============================] - 0s 784us/step - loss: 0.0152 - acc: 0.9952 - val_loss: 0.8832 - val_acc: 0.3889\n",
            "Epoch 61/100\n",
            "208/208 [==============================] - 0s 773us/step - loss: 0.0081 - acc: 0.9952 - val_loss: 0.8223 - val_acc: 0.5778\n",
            "Epoch 62/100\n",
            "208/208 [==============================] - 0s 786us/step - loss: 0.0105 - acc: 0.9952 - val_loss: 0.8114 - val_acc: 0.6111\n",
            "Epoch 63/100\n",
            "208/208 [==============================] - 0s 772us/step - loss: 0.0136 - acc: 0.9904 - val_loss: 0.8408 - val_acc: 0.4667\n",
            "Epoch 64/100\n",
            "208/208 [==============================] - 0s 775us/step - loss: 0.0071 - acc: 1.0000 - val_loss: 0.7916 - val_acc: 0.7444\n",
            "Epoch 65/100\n",
            "208/208 [==============================] - 0s 772us/step - loss: 0.0227 - acc: 0.9952 - val_loss: 0.8001 - val_acc: 0.6556\n",
            "Epoch 66/100\n",
            "208/208 [==============================] - 0s 777us/step - loss: 0.0066 - acc: 0.9952 - val_loss: 0.9562 - val_acc: 0.3667\n",
            "Epoch 67/100\n",
            "208/208 [==============================] - 0s 771us/step - loss: 0.0153 - acc: 0.9952 - val_loss: 0.9009 - val_acc: 0.3889\n",
            "Epoch 68/100\n",
            "208/208 [==============================] - 0s 774us/step - loss: 0.0079 - acc: 0.9952 - val_loss: 0.8350 - val_acc: 0.4667\n",
            "Epoch 69/100\n",
            "208/208 [==============================] - 0s 764us/step - loss: 0.0128 - acc: 0.9952 - val_loss: 0.8107 - val_acc: 0.6000\n",
            "Epoch 70/100\n",
            "208/208 [==============================] - 0s 768us/step - loss: 0.0052 - acc: 1.0000 - val_loss: 0.8905 - val_acc: 0.3889\n",
            "Epoch 71/100\n",
            "208/208 [==============================] - 0s 778us/step - loss: 0.0130 - acc: 0.9952 - val_loss: 0.8537 - val_acc: 0.4111\n",
            "Epoch 72/100\n",
            "208/208 [==============================] - 0s 784us/step - loss: 0.0127 - acc: 0.9904 - val_loss: 0.8121 - val_acc: 0.5889\n",
            "Epoch 73/100\n",
            "208/208 [==============================] - 0s 774us/step - loss: 0.0077 - acc: 0.9952 - val_loss: 0.8283 - val_acc: 0.5000\n",
            "Epoch 74/100\n",
            "208/208 [==============================] - 0s 770us/step - loss: 0.0084 - acc: 0.9952 - val_loss: 0.8309 - val_acc: 0.4778\n",
            "Epoch 75/100\n",
            "208/208 [==============================] - 0s 777us/step - loss: 0.0084 - acc: 0.9904 - val_loss: 0.8304 - val_acc: 0.4889\n",
            "Epoch 76/100\n",
            "208/208 [==============================] - 0s 772us/step - loss: 0.0090 - acc: 0.9904 - val_loss: 0.8338 - val_acc: 0.4778\n",
            "Epoch 77/100\n",
            "208/208 [==============================] - 0s 783us/step - loss: 0.0075 - acc: 0.9952 - val_loss: 0.8480 - val_acc: 0.4111\n",
            "Epoch 78/100\n",
            "208/208 [==============================] - 0s 781us/step - loss: 0.0080 - acc: 0.9952 - val_loss: 0.8394 - val_acc: 0.4333\n",
            "Epoch 79/100\n",
            "208/208 [==============================] - 0s 766us/step - loss: 0.0133 - acc: 0.9904 - val_loss: 0.8089 - val_acc: 0.5889\n",
            "Epoch 80/100\n",
            "208/208 [==============================] - 0s 765us/step - loss: 0.0089 - acc: 0.9952 - val_loss: 0.8342 - val_acc: 0.4778\n",
            "Epoch 81/100\n",
            "208/208 [==============================] - 0s 781us/step - loss: 0.0189 - acc: 0.9904 - val_loss: 0.9190 - val_acc: 0.3667\n",
            "Epoch 82/100\n",
            "208/208 [==============================] - 0s 792us/step - loss: 0.0115 - acc: 0.9952 - val_loss: 0.8092 - val_acc: 0.5889\n",
            "Epoch 83/100\n",
            "208/208 [==============================] - 0s 775us/step - loss: 0.0129 - acc: 0.9952 - val_loss: 0.7845 - val_acc: 0.7000\n",
            "Epoch 84/100\n",
            "208/208 [==============================] - 0s 777us/step - loss: 0.0111 - acc: 0.9952 - val_loss: 0.8192 - val_acc: 0.5000\n",
            "Epoch 85/100\n",
            "208/208 [==============================] - 0s 812us/step - loss: 0.0076 - acc: 0.9952 - val_loss: 0.8318 - val_acc: 0.4889\n",
            "Epoch 86/100\n",
            "208/208 [==============================] - 0s 774us/step - loss: 0.0127 - acc: 0.9904 - val_loss: 0.8600 - val_acc: 0.4000\n",
            "Epoch 87/100\n",
            "208/208 [==============================] - 0s 812us/step - loss: 0.0090 - acc: 0.9952 - val_loss: 0.7923 - val_acc: 0.6556\n",
            "Epoch 88/100\n",
            "208/208 [==============================] - 0s 769us/step - loss: 0.0124 - acc: 0.9952 - val_loss: 0.8247 - val_acc: 0.5000\n",
            "Epoch 89/100\n",
            "208/208 [==============================] - 0s 768us/step - loss: 0.0092 - acc: 0.9952 - val_loss: 0.8321 - val_acc: 0.4778\n",
            "Epoch 90/100\n",
            "208/208 [==============================] - 0s 776us/step - loss: 0.0127 - acc: 0.9952 - val_loss: 0.9133 - val_acc: 0.3778\n",
            "Epoch 91/100\n",
            "208/208 [==============================] - 0s 771us/step - loss: 0.0124 - acc: 0.9952 - val_loss: 0.8471 - val_acc: 0.4111\n",
            "Epoch 92/100\n",
            "208/208 [==============================] - 0s 796us/step - loss: 0.0075 - acc: 0.9952 - val_loss: 0.7967 - val_acc: 0.6444\n",
            "Epoch 93/100\n",
            "208/208 [==============================] - 0s 778us/step - loss: 0.0082 - acc: 0.9952 - val_loss: 0.7914 - val_acc: 0.6556\n",
            "Epoch 94/100\n",
            "208/208 [==============================] - 0s 770us/step - loss: 0.0088 - acc: 0.9952 - val_loss: 0.7968 - val_acc: 0.6556\n",
            "Epoch 95/100\n",
            "208/208 [==============================] - 0s 759us/step - loss: 0.0078 - acc: 0.9952 - val_loss: 0.8227 - val_acc: 0.4889\n",
            "Epoch 96/100\n",
            "208/208 [==============================] - 0s 760us/step - loss: 0.0135 - acc: 0.9952 - val_loss: 0.9133 - val_acc: 0.3667\n",
            "Epoch 97/100\n",
            "208/208 [==============================] - 0s 784us/step - loss: 0.0139 - acc: 0.9952 - val_loss: 0.8089 - val_acc: 0.5667\n",
            "Epoch 98/100\n",
            "208/208 [==============================] - 0s 776us/step - loss: 0.0104 - acc: 0.9952 - val_loss: 0.7851 - val_acc: 0.6556\n",
            "Epoch 99/100\n",
            "208/208 [==============================] - 0s 771us/step - loss: 0.0086 - acc: 0.9952 - val_loss: 0.8225 - val_acc: 0.4889\n",
            "Epoch 100/100\n",
            "208/208 [==============================] - 0s 781us/step - loss: 0.0100 - acc: 0.9952 - val_loss: 0.8405 - val_acc: 0.4222\n"
          ],
          "name": "stdout"
        },
        {
          "output_type": "execute_result",
          "data": {
            "text/plain": [
              "<keras.callbacks.History at 0x7fd2f0078cf8>"
            ]
          },
          "metadata": {
            "tags": []
          },
          "execution_count": 24
        }
      ]
    },
    {
      "cell_type": "code",
      "metadata": {
        "id": "TwiWbQdbsViL",
        "colab_type": "code",
        "colab": {}
      },
      "source": [
        "#Calculating the screen time \n"
      ],
      "execution_count": 0,
      "outputs": []
    },
    {
      "cell_type": "code",
      "metadata": {
        "id": "R6jRVnrttJZx",
        "colab_type": "code",
        "colab": {
          "base_uri": "https://localhost:8080/",
          "height": 51
        },
        "outputId": "80cfc3ff-4694-4772-af44-be9fe73e47e8"
      },
      "source": [
        "count = 0\n",
        "cap = cv2.VideoCapture(\"Tom and Jerry 3.mp4\")\n",
        "frameRate = cap.get(5)\n",
        "while(cap.isOpened()):\n",
        "  ret, frame = cap.read()\n",
        "  frameId = cap.get(1)\n",
        "  if (ret!=True):\n",
        "    break\n",
        "  if (frameId % math.floor(frameRate) == 0 ):\n",
        "    namefile = \"test%d.jpg\" %count\n",
        "    count += 1\n",
        "    cv2.imwrite(namefile, frame)\n",
        "cap.release()\n",
        "print(\"Done\")\n",
        "print(count)\n",
        "  \n"
      ],
      "execution_count": 40,
      "outputs": [
        {
          "output_type": "stream",
          "text": [
            "Done\n",
            "185\n"
          ],
          "name": "stdout"
        }
      ]
    },
    {
      "cell_type": "code",
      "metadata": {
        "id": "4Q3-2yrLt00Z",
        "colab_type": "code",
        "colab": {}
      },
      "source": [
        "test = pd.read_csv(\"test.csv\")\n",
        "test = test.drop(test.index[-1])"
      ],
      "execution_count": 0,
      "outputs": []
    },
    {
      "cell_type": "code",
      "metadata": {
        "id": "M3vHsjzxuMUt",
        "colab_type": "code",
        "colab": {}
      },
      "source": [
        "test_image = []\n",
        "for img_name in test.Image_ID:\n",
        "    img = plt.imread( img_name)\n",
        "    test_image.append(img)\n",
        "test_img = np.array(test_image)"
      ],
      "execution_count": 0,
      "outputs": []
    },
    {
      "cell_type": "code",
      "metadata": {
        "id": "-AZC1gqcuuRg",
        "colab_type": "code",
        "colab": {}
      },
      "source": [
        "test_image = []\n",
        "for i in range(0,test_img.shape[0]):\n",
        "    a = resize(test_img[i], preserve_range=True, output_shape=(224,224)).astype(int)\n",
        "    test_image.append(a)\n",
        "test_image = np.array(test_image)"
      ],
      "execution_count": 0,
      "outputs": []
    },
    {
      "cell_type": "code",
      "metadata": {
        "id": "hfwu9mEF1LNA",
        "colab_type": "code",
        "colab": {
          "base_uri": "https://localhost:8080/",
          "height": 34
        },
        "outputId": "6509ad23-2405-4ba6-e063-2eab2dd71ec3"
      },
      "source": [
        "test_image.shape"
      ],
      "execution_count": 53,
      "outputs": [
        {
          "output_type": "execute_result",
          "data": {
            "text/plain": [
              "(185, 224, 224, 3)"
            ]
          },
          "metadata": {
            "tags": []
          },
          "execution_count": 53
        }
      ]
    },
    {
      "cell_type": "code",
      "metadata": {
        "id": "u62GPXjsvhvB",
        "colab_type": "code",
        "colab": {}
      },
      "source": [
        "# preprocessing the images\n",
        "test_image = preprocess_input(test_image, mode='tf')\n",
        "\n",
        "# extracting features from the images using pretrained model\n",
        "test_image = base_model.predict(test_image)\n",
        "\n",
        "# converting the images to 1-D form\n",
        "test_image = test_image.reshape(185, 7*7*512)\n",
        "\n",
        "# zero centered images\n",
        "test_image = test_image/test_image.max()"
      ],
      "execution_count": 0,
      "outputs": []
    },
    {
      "cell_type": "code",
      "metadata": {
        "id": "zn7gVm__2Rli",
        "colab_type": "code",
        "colab": {}
      },
      "source": [
        "#Make prediction\n",
        "predictions = model.predict_classes(test_image)"
      ],
      "execution_count": 0,
      "outputs": []
    },
    {
      "cell_type": "code",
      "metadata": {
        "id": "2JWqBMI-2aqq",
        "colab_type": "code",
        "colab": {
          "base_uri": "https://localhost:8080/",
          "height": 51
        },
        "outputId": "0414bf92-24f5-47ba-8cad-0951a43fa0bf"
      },
      "source": [
        "print('Time of Jerry:', predictions[predictions==1].shape[0],\"seconds\")\n",
        "print('Time of Tom:', predictions[predictions==2].shape[0],\"seconds\")"
      ],
      "execution_count": 56,
      "outputs": [
        {
          "output_type": "stream",
          "text": [
            "Time of Jerry: 8 seconds\n",
            "Time of Tom: 112 seconds\n"
          ],
          "name": "stdout"
        }
      ]
    },
    {
      "cell_type": "code",
      "metadata": {
        "id": "U8a3OYUe25RK",
        "colab_type": "code",
        "colab": {
          "base_uri": "https://localhost:8080/",
          "height": 34
        },
        "outputId": "ef65a4c6-b608-4233-e14c-51d874934606"
      },
      "source": [
        ""
      ],
      "execution_count": 60,
      "outputs": [
        {
          "output_type": "execute_result",
          "data": {
            "text/plain": [
              "(8,)"
            ]
          },
          "metadata": {
            "tags": []
          },
          "execution_count": 60
        }
      ]
    },
    {
      "cell_type": "code",
      "metadata": {
        "id": "LI9jJf-X28-5",
        "colab_type": "code",
        "colab": {}
      },
      "source": [
        ""
      ],
      "execution_count": 0,
      "outputs": []
    }
  ]
}